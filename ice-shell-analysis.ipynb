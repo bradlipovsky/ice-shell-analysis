{
 "cells": [
  {
   "cell_type": "markdown",
   "id": "bcd9e97c",
   "metadata": {},
   "source": [
    "# A simplified system: the pressurized container"
   ]
  },
  {
   "cell_type": "code",
   "execution_count": 42,
   "id": "c2179d4c",
   "metadata": {},
   "outputs": [
    {
     "data": {
      "text/plain": [
       "-0.3557894736842105"
      ]
     },
     "execution_count": 42,
     "metadata": {},
     "output_type": "execute_result"
    }
   ],
   "source": [
    "import sympy as sp\n",
    "u,A,B,Es,nu,r,R_O,p,h,E = sp.symbols('u,A,B,E_*,nu,r,R_O,p,h,E')\n",
    "u = A*r + B/r**2\n",
    "Es = E / ((1+nu) * (1-2*nu))\n",
    "\n",
    "sigma_rr = Es*((1+nu)*sp.diff(u,r) + 2*nu*u/r)\n",
    "A_sol = sp.solve(sigma_rr.subs(r,R_O)-p,A)[0]\n",
    "u = u.subs(A,A_sol)\n",
    "\n",
    "sigma_rr = Es*((1+nu)*sp.diff(u,r) + 2*nu*u/r)\n",
    "B_sol=sp.solve(sigma_rr.subs(r,R_O+h),B)[0]\n",
    "u = u.subs(B,B_sol)\n",
    "u = u.subs(r,R_O)\n",
    "u_approx = u.series(h,0,0).as_ordered_terms()[0]\n",
    "u_approx = sp.simplify(u_approx)\n",
    "u_approx\n",
    "\n",
    "# lt=sp.latex(u_approx)\n",
    "# import re\n",
    "# lt = re.sub(r'\\{([A-Za-z0-9])\\}', r'\\1', lt)\n",
    "# print(lt)\n",
    "\n",
    "expr = (2*nu**3 + 3*nu**2 - 1) / (3*nu+1)\n",
    "f = sp.lambdify(nu,expr)\n",
    "f(0.3)"
   ]
  },
  {
   "cell_type": "markdown",
   "id": "1bf5cde4",
   "metadata": {},
   "source": [
    "# The multiphase two-layer system during phase change"
   ]
  },
  {
   "cell_type": "code",
   "execution_count": 2,
   "id": "834fcdf8",
   "metadata": {},
   "outputs": [
    {
     "data": {
      "text/latex": [
       "$\\displaystyle r \\left(B + \\frac{C}{R_{I}^{3}}\\right)$"
      ],
      "text/plain": [
       "r*(B + C/R_I**3)"
      ]
     },
     "execution_count": 2,
     "metadata": {},
     "output_type": "execute_result"
    }
   ],
   "source": [
    "from sympy import *\n",
    "r,A,B,C,D,E,R_I,R_O,nu_I,nu_L,E_L,E_I,gamma,alpha,K_L=symbols('r,A,B,C,D,E,R_I,R_O,nu_I,nu_L,E_L,E_I,gamma,alpha,K_L')\n",
    "U_L = r*A\n",
    "U_I = r*B + C/r**2\n",
    "\n",
    "'''\n",
    "Enforce continuous displacements at the liquid-ice boundary\n",
    "'''\n",
    "A_solution = solve(U_L.subs(r,R_I) - U_I.subs(r,R_I),A)[0]\n",
    "U_L = U_L.subs(A,A_solution)\n",
    "U_L"
   ]
  },
  {
   "cell_type": "code",
   "execution_count": 3,
   "id": "c25aade0",
   "metadata": {},
   "outputs": [
    {
     "data": {
      "text/latex": [
       "$\\displaystyle r \\left(B + \\frac{3 B E_{I} \\nu_{I} + B E_{I} - 2 B K_{L} \\nu_{L} - 4 B K_{L} - E_{I} \\gamma}{2 \\left(E_{I} + K_{L} \\nu_{L} + 2 K_{L}\\right)}\\right)$"
      ],
      "text/plain": [
       "r*(B + (3*B*E_I*nu_I + B*E_I - 2*B*K_L*nu_L - 4*B*K_L - E_I*gamma)/(2*(E_I + K_L*nu_L + 2*K_L)))"
      ]
     },
     "execution_count": 3,
     "metadata": {},
     "output_type": "execute_result"
    }
   ],
   "source": [
    "'''\n",
    "Enforce stress continuity between the liquid and ice\n",
    "'''\n",
    "# water_stress = 2*K_L*((1+nu_L)*diff(U_L,r) + 2*nu_L*U_L/r)\n",
    "water_stress = 2*K_L*((1+nu_L)*diff(U_L,r) + U_L/r)\n",
    "ice_stress =   E_I*((1+nu_I)*diff(U_I,r) + 2*nu_I*U_I/r - gamma)\n",
    "\n",
    "water_stress_interface = water_stress.subs(r,R_I)\n",
    "ice_stress_interface = ice_stress.subs(r,R_I)\n",
    "\n",
    "C_solution = solve(water_stress_interface - ice_stress_interface,C)[0]\n",
    "U_L = U_L.subs(C,C_solution)\n",
    "U_I = U_I.subs(C,C_solution)\n",
    "U_L"
   ]
  },
  {
   "cell_type": "code",
   "execution_count": 4,
   "id": "01fb6ff0",
   "metadata": {},
   "outputs": [
    {
     "data": {
      "text/latex": [
       "$\\displaystyle \\frac{E_{I} \\gamma r \\left(R_{I}^{3} - R_{O}^{3}\\right)}{3 E_{I} R_{I}^{3} \\nu_{I} + E_{I} R_{I}^{3} - 3 E_{I} R_{O}^{3} \\nu_{I} - E_{I} R_{O}^{3} - 2 K_{L} R_{I}^{3} \\nu_{L} - 4 K_{L} R_{I}^{3} - 3 K_{L} R_{O}^{3} \\nu_{I} \\nu_{L} - 6 K_{L} R_{O}^{3} \\nu_{I} - K_{L} R_{O}^{3} \\nu_{L} - 2 K_{L} R_{O}^{3}}$"
      ],
      "text/plain": [
       "E_I*gamma*r*(R_I**3 - R_O**3)/(3*E_I*R_I**3*nu_I + E_I*R_I**3 - 3*E_I*R_O**3*nu_I - E_I*R_O**3 - 2*K_L*R_I**3*nu_L - 4*K_L*R_I**3 - 3*K_L*R_O**3*nu_I*nu_L - 6*K_L*R_O**3*nu_I - K_L*R_O**3*nu_L - 2*K_L*R_O**3)"
      ]
     },
     "execution_count": 4,
     "metadata": {},
     "output_type": "execute_result"
    }
   ],
   "source": [
    "'''\n",
    "Zero stress outer boundary condition\n",
    "'''\n",
    "ice_stress = E_I*( (1+nu_I)*diff(U_I,r) + 2*nu_I*U_I/r - gamma )\n",
    "ice_stress_outer = ice_stress.subs(r,R_O)\n",
    "B_solution = solve(ice_stress_outer,B)[0]\n",
    "U_L = U_L.subs(B,B_solution)\n",
    "U_I = U_I.subs(B,B_solution)\n",
    "collect(simplify(U_L),B)"
   ]
  },
  {
   "cell_type": "code",
   "execution_count": 5,
   "id": "15b4f4a4",
   "metadata": {},
   "outputs": [
    {
     "data": {
      "text/latex": [
       "$\\displaystyle \\frac{3 E_{I} K_{L} \\gamma \\left(R_{I}^{3} - R_{O}^{3}\\right)}{E_{I} \\left(3 R_{I}^{3} \\nu_{I} + R_{I}^{3} - 3 R_{O}^{3} \\nu_{I} - R_{O}^{3}\\right) + K_{L} \\left(- 2 R_{I}^{3} \\nu_{L} - 4 R_{I}^{3} - 3 R_{O}^{3} \\nu_{I} \\nu_{L} - 6 R_{O}^{3} \\nu_{I} - R_{O}^{3} \\nu_{L} - 2 R_{O}^{3}\\right)}$"
      ],
      "text/plain": [
       "3*E_I*K_L*gamma*(R_I**3 - R_O**3)/(E_I*(3*R_I**3*nu_I + R_I**3 - 3*R_O**3*nu_I - R_O**3) + K_L*(-2*R_I**3*nu_L - 4*R_I**3 - 3*R_O**3*nu_I*nu_L - 6*R_O**3*nu_I - R_O**3*nu_L - 2*R_O**3))"
      ]
     },
     "execution_count": 5,
     "metadata": {},
     "output_type": "execute_result"
    }
   ],
   "source": [
    "'''\n",
    "Calculate water pressure\n",
    "'''\n",
    "# water_pressure = E_L*((1+nu_L)*diff(U_L,r) + 2*nu_L*U_L/r)\n",
    "water_pressure = K_L*( diff(U_L,r) + 2*U_L/r)\n",
    "water_pressure = simplify(water_pressure)\n",
    "water_pressure=collect(water_pressure,[K_L,E_I,R_O,R_I])\n",
    "water_pressure"
   ]
  },
  {
   "cell_type": "code",
   "execution_count": 6,
   "id": "735e9cb3",
   "metadata": {},
   "outputs": [
    {
     "data": {
      "text/latex": [
       "$\\displaystyle \\frac{3 E_{I} K_{L} \\gamma}{E_{I} \\left(3 \\nu_{I} + 1\\right) + K_{L} \\left(3 \\nu_{I} \\nu_{L} + 6 \\nu_{I} + \\nu_{L} + 2\\right)}$"
      ],
      "text/plain": [
       "3*E_I*K_L*gamma/(E_I*(3*nu_I + 1) + K_L*(3*nu_I*nu_L + 6*nu_I + nu_L + 2))"
      ]
     },
     "execution_count": 6,
     "metadata": {},
     "output_type": "execute_result"
    }
   ],
   "source": [
    "simplify(water_pressure.subs(R_I,0))"
   ]
  },
  {
   "cell_type": "code",
   "execution_count": 7,
   "id": "d64805e4",
   "metadata": {},
   "outputs": [
    {
     "name": "stdout",
     "output_type": "stream",
     "text": [
      "\\frac{3 E_I K_L \\gamma \\left(R_I^3 - R_O^3\\right)}{E_I \\left(3 R_I^3 \\nu_I + R_I^3 - 3 R_O^3 \\nu_I - R_O^3\\right) + K_L \\left(- 2 R_I^3 \\nu_L - 4 R_I^3 - 3 R_O^3 \\nu_I \\nu_L - 6 R_O^3 \\nu_I - R_O^3 \\nu_L - 2 R_O^3\\right)}\n"
     ]
    }
   ],
   "source": [
    "lt=latex(water_pressure)\n",
    "import re\n",
    "lt = re.sub(r'\\{([A-Za-z0-9])\\}', r'\\1', lt)\n",
    "print(lt)"
   ]
  },
  {
   "cell_type": "code",
   "execution_count": 8,
   "id": "d14f8b29",
   "metadata": {},
   "outputs": [
    {
     "data": {
      "text/latex": [
       "$\\displaystyle \\frac{E_{I} \\gamma r \\left(R_{I}^{3} - R_{O}^{3}\\right)}{E_{I} \\left(3 R_{I}^{3} \\nu_{I} + R_{I}^{3} - 3 R_{O}^{3} \\nu_{I} - R_{O}^{3}\\right) + K_{L} \\left(- 2 R_{I}^{3} \\nu_{L} - 4 R_{I}^{3} - 3 R_{O}^{3} \\nu_{I} \\nu_{L} - 6 R_{O}^{3} \\nu_{I} - R_{O}^{3} \\nu_{L} - 2 R_{O}^{3}\\right)}$"
      ],
      "text/plain": [
       "E_I*gamma*r*(R_I**3 - R_O**3)/(E_I*(3*R_I**3*nu_I + R_I**3 - 3*R_O**3*nu_I - R_O**3) + K_L*(-2*R_I**3*nu_L - 4*R_I**3 - 3*R_O**3*nu_I*nu_L - 6*R_O**3*nu_I - R_O**3*nu_L - 2*R_O**3))"
      ]
     },
     "execution_count": 8,
     "metadata": {},
     "output_type": "execute_result"
    }
   ],
   "source": [
    "U_L = simplify(U_L)\n",
    "U_L=collect(U_L,[K_L,E_I,R_O,R_I])\n",
    "U_L"
   ]
  },
  {
   "cell_type": "code",
   "execution_count": 9,
   "id": "520642c9",
   "metadata": {},
   "outputs": [
    {
     "name": "stdout",
     "output_type": "stream",
     "text": [
      "\\frac{E_I \\gamma r \\left(R_I^3 - R_O^3\\right)}{E_I \\left(3 R_I^3 \\nu_I + R_I^3 - 3 R_O^3 \\nu_I - R_O^3\\right) + K_L \\left(- 2 R_I^3 \\nu_L - 4 R_I^3 - 3 R_O^3 \\nu_I \\nu_L - 6 R_O^3 \\nu_I - R_O^3 \\nu_L - 2 R_O^3\\right)}\n"
     ]
    }
   ],
   "source": [
    "lt=latex(U_L)\n",
    "import re\n",
    "lt = re.sub(r'\\{([A-Za-z0-9])\\}', r'\\1', lt)\n",
    "print(lt)"
   ]
  },
  {
   "cell_type": "markdown",
   "id": "b393a694",
   "metadata": {},
   "source": [
    "## Plot the spherically symmetric water pressure solution as a function of phi"
   ]
  },
  {
   "cell_type": "code",
   "execution_count": 12,
   "id": "e963440b",
   "metadata": {},
   "outputs": [
    {
     "data": {
      "image/png": "[encoded data removed]",
      "text/plain": [
       "<Figure size 640x480 with 1 Axes>"
      ]
     },
     "metadata": {},
     "output_type": "display_data"
    }
   ],
   "source": [
    "import matplotlib.pyplot as plt\n",
    "import numpy as np\n",
    "\n",
    "rhow = 1000\n",
    "rhoi = 917\n",
    "gamma = rhow/rhoi-1\n",
    "phi = np.linspace(0,1,100)\n",
    "\n",
    "Ei = 8.7e9\n",
    "nuI=0.3\n",
    "Kl= 1.96e9\n",
    "EiS = (3*nuI+1) * Ei\n",
    "kappa = 3*nuI+1\n",
    "\n",
    "pw = 6*gamma*phi*Kl*EiS/ ( 5*Kl*(kappa + 2*(1-phi)) + 2 * EiS*kappa*phi)\n",
    "\n",
    "plt.subplots()\n",
    "plt.plot(phi,pw/Kl)\n",
    "plt.xlabel('Ice volume fraction, $\\phi$',fontsize=16)\n",
    "plt.ylabel('Water pressure, $p_w/K_{\\ell}$',fontsize=16)\n",
    "plt.xticks(fontsize=14)\n",
    "plt.yticks(fontsize=14)\n",
    "plt.grid()\n",
    "plt.savefig('freezing.eps')"
   ]
  },
  {
   "cell_type": "code",
   "execution_count": 19,
   "id": "d2c950ea",
   "metadata": {},
   "outputs": [
    {
     "data": {
      "text/plain": [
       "5.086153846153846"
      ]
     },
     "execution_count": 19,
     "metadata": {},
     "output_type": "execute_result"
    }
   ],
   "source": [
    "6*EiS/ ( 5*(kappa + 2)) / 1e9"
   ]
  },
  {
   "cell_type": "code",
   "execution_count": 22,
   "id": "f5ce5b7d",
   "metadata": {},
   "outputs": [
    {
     "data": {
      "text/plain": [
       "1.9"
      ]
     },
     "execution_count": 22,
     "metadata": {},
     "output_type": "execute_result"
    }
   ],
   "source": [
    "EiS/Ei"
   ]
  },
  {
   "cell_type": "code",
   "execution_count": null,
   "id": "28d82fed",
   "metadata": {},
   "outputs": [],
   "source": []
  }
 ],
 "metadata": {
  "kernelspec": {
   "display_name": "python3.11-obspy",
   "language": "python",
   "name": "python3.11-obspy"
  },
  "language_info": {
   "codemirror_mode": {
    "name": "ipython",
    "version": 3
   },
   "file_extension": ".py",
   "mimetype": "text/x-python",
   "name": "python",
   "nbconvert_exporter": "python",
   "pygments_lexer": "ipython3",
   "version": "3.11.5"
  }
 },
 "nbformat": 4,
 "nbformat_minor": 5
}
